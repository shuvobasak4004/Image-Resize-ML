{
 "cells": [
  {
   "cell_type": "code",
   "execution_count": 1,
   "id": "54f5f7d9",
   "metadata": {},
   "outputs": [
    {
     "data": {
      "text/plain": [
       "2"
      ]
     },
     "execution_count": 1,
     "metadata": {},
     "output_type": "execute_result"
    }
   ],
   "source": [
    "#Radhey Radhey \n",
    "#Shuvo Kumar Basak"
   ]
  },
  {
   "cell_type": "code",
   "execution_count": null,
   "id": "c34869d5",
   "metadata": {},
   "outputs": [],
   "source": []
  },
  {
   "cell_type": "code",
   "execution_count": 15,
   "id": "cd32523f",
   "metadata": {},
   "outputs": [
    {
     "name": "stdout",
     "output_type": "stream",
     "text": [
      "Images resized and saved in the same folder successfully.\n"
     ]
    }
   ],
   "source": [
    "from PIL import Image\n",
    "import os\n",
    "\n",
    "def resize_images(input_folder, new_size=(256, 256)):\n",
    "    # Loop through all files in the input folder\n",
    "    for filename in os.listdir(input_folder):\n",
    "        # Check if the file is an image\n",
    "        if filename.endswith(('.png', '.jpg', '.jpeg')):\n",
    "            # Create the full file paths\n",
    "            input_path = os.path.join(input_folder, filename)\n",
    "\n",
    "            # Open the image\n",
    "            with Image.open(input_path) as img:\n",
    "                # Resize the image\n",
    "                resized_img = img.resize(new_size)\n",
    "\n",
    "                # Save the resized image in the same folder\n",
    "                resized_path = os.path.join(input_folder, f\"resized_{filename}\")\n",
    "                resized_img.save(resized_path)\n",
    "\n",
    "            # Remove the original image\n",
    "            os.remove(input_path)\n",
    "\n",
    "if __name__ == \"__main__\":\n",
    "    # Input folder containing the original images\n",
    "    input_folder = r\"F:\\Blood\\Blood_Image\\Not_Valid\"\n",
    "\n",
    "    try:\n",
    "        # Resize images and save in the same folder\n",
    "        resize_images(input_folder)\n",
    "        print(\"Images resized and saved in the same folder successfully.\")\n",
    "    except Exception as e:\n",
    "        print(f\"An error occurred: {e}\")\n"
   ]
  },
  {
   "cell_type": "code",
   "execution_count": null,
   "id": "5ed33353",
   "metadata": {},
   "outputs": [],
   "source": []
  }
 ],
 "metadata": {
  "kernelspec": {
   "display_name": "Python 3 (ipykernel)",
   "language": "python",
   "name": "python3"
  },
  "language_info": {
   "codemirror_mode": {
    "name": "ipython",
    "version": 3
   },
   "file_extension": ".py",
   "mimetype": "text/x-python",
   "name": "python",
   "nbconvert_exporter": "python",
   "pygments_lexer": "ipython3",
   "version": "3.10.2"
  }
 },
 "nbformat": 4,
 "nbformat_minor": 5
}
